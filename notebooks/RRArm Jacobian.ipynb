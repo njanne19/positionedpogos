{
 "cells": [
  {
   "cell_type": "markdown",
   "id": "c36118d4-9615-4b17-8a80-7b914ea69285",
   "metadata": {},
   "source": [
    "### Imports and Prelims"
   ]
  },
  {
   "cell_type": "code",
   "execution_count": 3,
   "id": "df55aab9-35b4-4bf9-9af0-52c916ddf929",
   "metadata": {},
   "outputs": [],
   "source": [
    "import numpy as np \n",
    "import sympy as sy \n",
    "import matplotlib.pyplot as plt \n",
    "from positionedpogos.math import calculate_jacobian_symmetric_difference\n",
    "\n",
    "%matplotlib inline "
   ]
  },
  {
   "cell_type": "markdown",
   "id": "5feff698-13c4-4c65-ab71-d20a8f65ab7b",
   "metadata": {},
   "source": [
    "### Defining RR Arm Symbolically"
   ]
  },
  {
   "cell_type": "code",
   "execution_count": 6,
   "id": "30af1c9a-3b1e-4dcf-9897-fb380b07c2ca",
   "metadata": {},
   "outputs": [],
   "source": [
    "# First define arm lengths \n",
    "La, Lb = sy.symbols('La Lb') \n",
    "\n",
    "# Symbolic variables \n",
    "theta_1, theta_2 = sy.symbols('theta_1 theta_2') \n",
    "\n",
    "# Forward function \n",
    "f = sy.Matrix([\n",
    "    La*sy.cos(theta_1) + Lb*sy.cos(theta_2), \n",
    "    La*sy.sin(theta_1) + Lb*sy.sin(theta_2)\n",
    "])\n",
    "\n",
    "J = f.jacobian([theta_1, theta_2]) "
   ]
  },
  {
   "cell_type": "code",
   "execution_count": 7,
   "id": "cb0bc3e8-8551-44f0-95a7-b317769b2647",
   "metadata": {},
   "outputs": [
    {
     "data": {
      "text/latex": [
       "$\\displaystyle \\left[\\begin{matrix}- La \\sin{\\left(\\theta_{1} \\right)} & - Lb \\sin{\\left(\\theta_{2} \\right)}\\\\La \\cos{\\left(\\theta_{1} \\right)} & Lb \\cos{\\left(\\theta_{2} \\right)}\\end{matrix}\\right]$"
      ],
      "text/plain": [
       "Matrix([\n",
       "[-La*sin(theta_1), -Lb*sin(theta_2)],\n",
       "[ La*cos(theta_1),  Lb*cos(theta_2)]])"
      ]
     },
     "execution_count": 7,
     "metadata": {},
     "output_type": "execute_result"
    }
   ],
   "source": [
    "J"
   ]
  },
  {
   "cell_type": "code",
   "execution_count": null,
   "id": "60de2796-993b-4110-b890-1128bd0960e2",
   "metadata": {},
   "outputs": [],
   "source": []
  }
 ],
 "metadata": {
  "kernelspec": {
   "display_name": "Python 3 (ipykernel)",
   "language": "python",
   "name": "python3"
  },
  "language_info": {
   "codemirror_mode": {
    "name": "ipython",
    "version": 3
   },
   "file_extension": ".py",
   "mimetype": "text/x-python",
   "name": "python",
   "nbconvert_exporter": "python",
   "pygments_lexer": "ipython3",
   "version": "3.11.5"
  }
 },
 "nbformat": 4,
 "nbformat_minor": 5
}
